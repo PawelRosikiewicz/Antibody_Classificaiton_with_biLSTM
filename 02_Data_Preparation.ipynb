{
 "cells": [
  {
   "cell_type": "markdown",
   "id": "3db7fd65-7027-4d6d-b4ae-21b96c03da8d",
   "metadata": {},
   "source": [
    "# Notebook 02 - Data Preparation\n",
    "by __Pawel Rosikiewicz__ www.SimpleAI.ch\n",
    "\n",
    "---"
   ]
  },
  {
   "cell_type": "markdown",
   "id": "03b6195b-be3d-4942-9228-32d6227e01a5",
   "metadata": {},
   "source": [
    "## __Purpose__\n",
    "* to create and test data preparation pipeline for aligned sequences, with knowledge gained in notebok 01. \n",
    "* to create simple baseline model"
   ]
  },
  {
   "cell_type": "markdown",
   "id": "a78091ae-e61f-4319-a163-e9a2e1506f40",
   "metadata": {},
   "source": [
    "![outliers_slide_01](images/Slide7.jpeg)"
   ]
  },
  {
   "cell_type": "markdown",
   "id": "485fffe1-fdd9-45de-85dd-f1c1b6387b35",
   "metadata": {},
   "source": [
    "## Setup\n",
    "---"
   ]
  },
  {
   "cell_type": "code",
   "execution_count": 1,
   "id": "7867b0ed-9c91-4663-958b-1e0c89518e7f",
   "metadata": {},
   "outputs": [],
   "source": [
    "import os\n",
    "import sys\n",
    "import re # module to use regular expressions, \n",
    "import glob # lists names in folders that match Unix shell patterns\n",
    "import warnings\n",
    "\n",
    "import numpy as np\n",
    "import pandas as pd\n",
    "import matplotlib.pyplot as plt\n",
    "import matplotlib as mlp\n",
    "import seaborn as sns\n",
    "import scipy.stats as stats\n",
    "\n",
    "from IPython.display import Image # to import one image and display in jupyter\n",
    "# feature transformations\n",
    "from sklearn.impute import SimpleImputer\n",
    "from sklearn.preprocessing import FunctionTransformer # creates custom transfomers\n",
    "from sklearn.compose import ColumnTransformer # allows using different transformers to different columns\n",
    "from sklearn.preprocessing import QuantileTransformer\n",
    "from sklearn.preprocessing import OneHotEncoder, StandardScaler, KBinsDiscretizer # skleanr transformers\n",
    "from sklearn.preprocessing import RobustScaler # creates custom transfomers\n",
    "\n"
   ]
  },
  {
   "cell_type": "code",
   "execution_count": 2,
   "id": "49f97e81-2ce9-4db4-b815-c5307d5e34a8",
   "metadata": {},
   "outputs": [
    {
     "name": "stdout",
     "output_type": "stream",
     "text": [
      "/Users/pawel/Desktop/activities/100__Projects/LTSM_for_Antibiodies/LTSM_for_Antibodies\n"
     ]
    }
   ],
   "source": [
    "# basedir\n",
    "basedir = os.path.dirname(os.getcwd())\n",
    "os.chdir(basedir)\n",
    "sys.path.append(basedir)\n",
    "print(basedir)"
   ]
  },
  {
   "cell_type": "code",
   "execution_count": 3,
   "id": "49f566f6-a9b0-4528-aa7b-d86d9598069c",
   "metadata": {},
   "outputs": [],
   "source": [
    "# paths\n",
    "PATH_data_raw     = os.path.join(basedir, \"data/raw\")\n",
    "PATH_data_interim = os.path.join(basedir, \"data/interim\")\n",
    "PATH_results      = os.path.join(basedir, \"data/results\")\n",
    "PATH_models       = os.path.join(basedir, \"models\")"
   ]
  },
  {
   "cell_type": "code",
   "execution_count": 4,
   "id": "7459187d-9b67-4d5d-abde-100dc22e727e",
   "metadata": {},
   "outputs": [],
   "source": [
    "# load project configs\n",
    "from src.configs.filenames_and_colors import organisms, colors \n",
    "from src.configs.filenames_and_colors import filenames_aa_seq, filenames_aa_seq_vlen\n",
    "\n",
    "# import my custom functions, \n",
    "from src.utils.data_loaders import load_aa_sequences # loads sequences and provides basic info on data\n",
    "from src.utils.data_loaders import load_data_for_ml # more advanced loader, that provides data labels, test and train data\n",
    "from src.utils.eda_helpers import aa_seq_len_hist\n",
    "from src.utils.eda_helpers import aa_seq_qc # QC table on loaded qq-seq data\n",
    "from src.utils.qc_helpers import unique_aa_counts_hist\n",
    "from src.utils.data_preprocessing_tools import create_aa_matrix\n",
    "from src.utils.data_preprocessing_tools import prepare_aa_data_for_baseline\n",
    "from src.utils.data_preprocessing_tools import  calc_aa_perc_per_pos\n",
    "from src.utils.data_preprocessing_tools import calc_aa_number_per_pos\n",
    "from src.utils.data_preprocessing_pipeline import load_and_prepare_the_AAseq_data\n",
    "from src.utils.data_preprocessing_pipeline import data_preprocessing_pipeline"
   ]
  },
  {
   "cell_type": "markdown",
   "id": "e105a691-4d37-4923-8ac4-667af10c3a5c",
   "metadata": {},
   "source": [
    "## Step 1. Load the data\n",
    "* __I am using data preprocessing function, that:___ \n",
    "    - loads the data provides in list of filenames, \n",
    "    - concatenate all of them and adds target variable, \n",
    "    - removes duplicates withint each class\n",
    "    - creates train/valid and test subsets \n",
    "    - and returns then as dataframe with AAseq in the first column, and class labels in the second column"
   ]
  },
  {
   "cell_type": "markdown",
   "id": "bcccbe3f-bd4d-4b6a-9895-a4b40c524d25",
   "metadata": {},
   "source": [
    "__(A) variable lenght data__"
   ]
  },
  {
   "cell_type": "code",
   "execution_count": 5,
   "id": "4a527942-335d-4fcd-8a91-332520f91b97",
   "metadata": {},
   "outputs": [
    {
     "name": "stdout",
     "output_type": "stream",
     "text": [
      "-------------------------------------------------------------\n",
      "loaded:  0 0 (357071,) human  -  human_train_vlen.txt\n",
      "loaded:  0 1 (76515,) human  -  human_val_vlen.txt\n",
      "loaded:  0 2 (76515,) human  -  human_test_vlen.txt\n",
      "loaded:  1 0 (500000,) mouse  -  mouse_test_vlen.txt\n",
      "total dimension:  (1010101, 2)  - demultiplexed, and with target\n",
      "-------------------------------------------------------------\n",
      "removed 24 duplicates\n",
      "\n",
      ". train/validation data:  (858565, 2)\n",
      "0    433597\n",
      "1    424968\n",
      "Name: target, dtype: int64\n",
      "\n",
      ". test data:  (151512, 2)\n",
      "0    76504\n",
      "1    75008\n",
      "Name: target, dtype: int64\n",
      "-------------------------------------------------------------\n",
      "\n",
      "-----------------------------------------------\n",
      "QC on all data - loaded together\n",
      "before splitting into\n",
      "train,test and validation datasets\n",
      "-----------------------------------------------\n",
      ". shape: (858565,)\n",
      ". unique el: (858565,)\n",
      ". non-unique el: 0\n",
      ". max nr of duplicates: None\n",
      ". mean seq len:, 120.8±3.98\n",
      ". examples\n"
     ]
    },
    {
     "data": {
      "text/plain": [
       "151512    VQLVESGGGVVQPGRSLRLSCAASEFSFSSFGMHWVRQAPGKGLEW...\n",
       "151513    EMQLLESGGGLAQPGGSLRLSCAASGFTFSNYWMHWVRQAPGKGLV...\n",
       "Name: aa_seq, dtype: object"
      ]
     },
     "metadata": {},
     "output_type": "display_data"
    },
    {
     "data": {
      "image/png": "[encoded data removed]",
      "text/plain": [
       "<Figure size 216x216 with 1 Axes>"
      ]
     },
     "metadata": {
      "needs_background": "light"
     },
     "output_type": "display_data"
    }
   ],
   "source": [
    "_, _ = load_and_prepare_the_AAseq_data(\n",
    "    fname = 'LTSM_AAseq_vlen_data_dct.p',\n",
    "    path_in=PATH_data_raw,\n",
    "    path_out=PATH_data_interim,\n",
    "    load_data_for_ml_dct =dict(\n",
    "        file_types = organisms, \n",
    "        filenames_to_use=filenames_aa_seq_vlen, \n",
    "        test_size=0.15, \n",
    "        random_state=0, # decides on which samples will be selected to test subset\n",
    "        verbose=True    \n",
    "    )\n",
    ")"
   ]
  },
  {
   "cell_type": "markdown",
   "id": "f10c823c-36d0-4eae-893a-e25d094261ff",
   "metadata": {},
   "source": [
    "__(B) aligned aa-sequence data__"
   ]
  },
  {
   "cell_type": "code",
   "execution_count": 6,
   "id": "61b4a9d3-f980-4282-bd4e-e14012cdf496",
   "metadata": {},
   "outputs": [
    {
     "name": "stdout",
     "output_type": "stream",
     "text": [
      "-------------------------------------------------------------\n",
      "loaded:  0 0 (357071,) human  -  human_train.txt\n",
      "loaded:  0 1 (76515,) human  -  human_val.txt\n",
      "loaded:  0 2 (76515,) human  -  human_test.txt\n",
      "loaded:  1 0 (500000,) mouse  -  mouse_test.txt\n",
      "total dimension:  (1010101, 2)  - demultiplexed, and with target\n",
      "-------------------------------------------------------------\n",
      "removed 24 duplicates\n",
      "\n",
      ". train/validation data:  (858565, 2)\n",
      "0    433597\n",
      "1    424968\n",
      "Name: target, dtype: int64\n",
      "\n",
      ". test data:  (151512, 2)\n",
      "0    76504\n",
      "1    75008\n",
      "Name: target, dtype: int64\n",
      "-------------------------------------------------------------\n",
      "\n",
      "-----------------------------------------------\n",
      "QC on all data - loaded together\n",
      "before splitting into\n",
      "train,test and validation datasets\n",
      "-----------------------------------------------\n",
      ". shape: (858565,)\n",
      ". unique el: (858565,)\n",
      ". non-unique el: 0\n",
      ". max nr of duplicates: None\n",
      ". mean seq len:, 150.0±0.0\n",
      ". examples\n"
     ]
    },
    {
     "data": {
      "text/plain": [
       "151512    --VQLVES-GGGVVQPGRSLRLSCAASE-FSFSS-----FGMHWVR...\n",
       "151513    -EMQLLES-GGGLAQPGGSLRLSCAASG-FTFSN-----YWMHWVR...\n",
       "Name: aa_seq, dtype: object"
      ]
     },
     "metadata": {},
     "output_type": "display_data"
    },
    {
     "data": {
      "image/png": "[encoded data removed]",
      "text/plain": [
       "<Figure size 216x216 with 1 Axes>"
      ]
     },
     "metadata": {
      "needs_background": "light"
     },
     "output_type": "display_data"
    }
   ],
   "source": [
    "data, data_test = load_and_prepare_the_AAseq_data(\n",
    "    fname = 'LTSM_AAseq_data_dct.p',\n",
    "    path_in=PATH_data_raw,\n",
    "    path_out=PATH_data_interim,\n",
    "    load_data_for_ml_dct =dict(\n",
    "        file_types = organisms, \n",
    "        filenames_to_use=filenames_aa_seq, \n",
    "        test_size=0.15, \n",
    "        random_state=0, # decides on which samples will be selected to test subset\n",
    "        verbose=True    \n",
    "    )\n",
    ")\n",
    "\n"
   ]
  },
  {
   "cell_type": "code",
   "execution_count": null,
   "id": "6fb11974-c3f9-4a4f-9fbd-3a60f03405d9",
   "metadata": {},
   "outputs": [],
   "source": []
  },
  {
   "cell_type": "markdown",
   "id": "8f8b128c-4e5c-441b-994b-8e0a51416815",
   "metadata": {},
   "source": [
    "## Step 2. Use loaded data (aligned aa-sequences) to prepare the data for sklearn baseline models\n",
    "* in notebook one (EDA), I observed large number of low-frequency aa that may be sequence or aligment errors, or simply generate to many dimensions in one-hot encoded data, with zero values at almost all the samples,  \n",
    "* for these reasons I decided to remove infrequent aa, with custom made class transformer, \n",
    "* __the pipeline does the following:__\n",
    "    - generate dataframe with column for each position in aligned data\n",
    "    - evaluate each postions, and remove low frequency aa, eg singletons, or aa that are present in less then 1% of sequences, \n",
    "    - replace them with the most frequent aa or aligment gap\n",
    "    - one-hot encode the data  \n",
    "* __data organization__\n",
    "    - the ssame pipeline will generate test, train and validation datasaved in dictorary\n",
    "    - test and validaiton data will be generated with different randnr, 0-9, saved separately, \n",
    "    - it is done to save time later on while traingin the model, \n",
    "    - data frame with processed aa sequences are also saved so they can be used with LTSMs\n",
    "    \n",
    "__IMPORTANT COMMENT__\n",
    "* after rewiewing the data with simple models, I decided to work only with the most conservative data preparation procedure for constructing model baseline, \n",
    "* it was done, also because of file size of onehote encoded data that were >2GB each, "
   ]
  },
  {
   "cell_type": "code",
   "execution_count": 11,
   "id": "75cb4878-5903-4012-8092-386c86267cc0",
   "metadata": {},
   "outputs": [],
   "source": [
    "parameters = {\n",
    "    # use aa that are present in >1% of sequenses ot min, 2 sequences\n",
    "    'Processed_AAseq_1p2r':{\n",
    "        \"train_size\":0.7,\n",
    "        \"prepare_aa_data_for_baseline\":{'tr':1, 'min_nr':1}\n",
    "    },\n",
    "    # use aa that are present in >5% of sequenses ot min, 2 sequences\n",
    "    'Processed_AAseq_5p2r':{\n",
    "        \"train_size\":0.7,\n",
    "        \"prepare_aa_data_for_baseline\":{'tr':5, 'min_nr':1}\n",
    "    },\n",
    "    # use aa that are present in >10% of sequenses ot min, 10 sequences\n",
    "    'Processed_AAseq_10p2r':{\n",
    "        \"train_size\":0.7,\n",
    "        \"prepare_aa_data_for_baseline\":{'tr':10, 'min_nr':10}\n",
    "    }\n",
    "}\n",
    "\n",
    "\n",
    "parameters = {\n",
    "    # use aa that are present in >10% of sequenses ot min, 10 sequences\n",
    "    'Processed_AAseq_10p10r':{\n",
    "        \"train_size\":0.7,\n",
    "        \"prepare_aa_data_for_baseline\":{'tr':10, 'min_nr':10}\n",
    "    }\n",
    "}"
   ]
  },
  {
   "cell_type": "code",
   "execution_count": 12,
   "id": "0a3e1d0d-29bf-4046-a26d-a2fd12018957",
   "metadata": {},
   "outputs": [
    {
     "name": "stdout",
     "output_type": "stream",
     "text": [
      "\n",
      "\n",
      ".....................................................................\n",
      "dataset_name:  Processed_AAseq_10p10r\n",
      "rand_nr: 0\n",
      "params: {'train_size': 0.7, 'prepare_aa_data_for_baseline': {'tr': 10, 'min_nr': 10}}\n",
      ".....................................................................\n",
      "\n",
      "- PART 1 - CREATE TRAIN AND VALIDAITON SUBSETS\n",
      "\n",
      "-----------------------------------------------\n",
      "train subset\n",
      "-----------------------------------------------\n",
      ". shape: (600996,)\n",
      ". unique el: (600996,)\n",
      ". non-unique el: 0\n",
      ". max nr of duplicates: None\n",
      ". mean seq len:, 150.0±0.0\n",
      ". examples\n"
     ]
    },
    {
     "data": {
      "text/plain": [
       "0    -EVQLVES-GGGFAQPGGSLGLSCAASG-FVFNT-----YLRHGVW...\n",
       "1    -QVQLVQA-GAEVKTPGASVKVSCKGSG-YTFNK-----YGISGVR...\n",
       "Name: aa_seq, dtype: object"
      ]
     },
     "metadata": {},
     "output_type": "display_data"
    },
    {
     "name": "stdout",
     "output_type": "stream",
     "text": [
      "\n",
      "-----------------------------------------------\n",
      "validation subset\n",
      "-----------------------------------------------\n",
      ". shape: (257569,)\n",
      ". unique el: (257569,)\n",
      ". non-unique el: 0\n",
      ". max nr of duplicates: None\n",
      ". mean seq len:, 150.0±0.0\n",
      ". examples\n"
     ]
    },
    {
     "data": {
      "text/plain": [
       "0    -QLQLVES-GGGVVQPGGSLRLSCVASG-FDFRS-----HDMHWVR...\n",
       "1    -QVQLLQS-GSEVKKPGASVKVSCEISG-YTVTA-----LAMHWVR...\n",
       "Name: aa_seq, dtype: object"
      ]
     },
     "metadata": {},
     "output_type": "display_data"
    },
    {
     "name": "stdout",
     "output_type": "stream",
     "text": [
      "\n",
      "-----------------------------------------------\n",
      "test subset\n",
      "-----------------------------------------------\n",
      ". shape: (151512,)\n",
      ". unique el: (151512,)\n",
      ". non-unique el: 0\n",
      ". max nr of duplicates: None\n",
      ". mean seq len:, 150.0±0.0\n",
      ". examples\n"
     ]
    },
    {
     "data": {
      "text/plain": [
       "0    -QIQLVQS-GPEVRKPGASVKVSCKASG-YTFSS-----YGISWVR...\n",
       "1    -QVQLQQP-GAELVKPGASVKVSCKASG-YTFTS-----YWMHWVK...\n",
       "Name: aa_seq, dtype: object"
      ]
     },
     "metadata": {},
     "output_type": "display_data"
    },
    {
     "name": "stdout",
     "output_type": "stream",
     "text": [
      "\n",
      "X.shape:  (303459, 150)\n",
      "y.shape:  (303459,)\n"
     ]
    },
    {
     "data": {
      "image/png": "[encoded data removed]",
      "text/plain": [
       "<Figure size 216x216 with 1 Axes>"
      ]
     },
     "metadata": {
      "needs_background": "light"
     },
     "output_type": "display_data"
    },
    {
     "name": "stdout",
     "output_type": "stream",
     "text": [
      "\n",
      "X.shape:  (600996, 150)\n",
      "y.shape:  (600996,)\n"
     ]
    },
    {
     "data": {
      "image/png": "[encoded data removed]",
      "text/plain": [
       "<Figure size 216x216 with 1 Axes>"
      ]
     },
     "metadata": {
      "needs_background": "light"
     },
     "output_type": "display_data"
    },
    {
     "name": "stdout",
     "output_type": "stream",
     "text": [
      "AA matrix shape:  (151512, 150)\n",
      "AA matrix shape:  (257569, 150)\n",
      "\n",
      "- PART 2 - create df, with each postiosn in different collumne and remove noise\n",
      "\n",
      "train data: X.shape = (600996, 150), y.shape = (600996,)\n",
      "valid data: X.shape = (257569, 150), y.shape = (257569,)\n",
      "test data: X.shape = (151512, 150), y.shape = (151512,)\n",
      "SAVING: Processed_AAseq_10p10r_expanded_v0_dct.p\n",
      "PWD:  /Users/pawel/Desktop/activities/100__Projects/LTSM_for_Antibiodies/LTSM_for_Antibodies/data/interim\n",
      "\n",
      "\n",
      "- PART 3 - ONE HOT ENCODING WITH sklearn transformer\n",
      "\n",
      "train data: X.shape = (600996, 325), y.shape = (600996,)\n",
      "valid data: X.shape = (257569, 325), y.shape = (257569,)\n",
      "test data: X.shape = (151512, 325), y.shape = (151512,)\n",
      "SAVING: Processed_AAseq_10p10r_onehotenc_v0_dct.p\n",
      "PWD:  /Users/pawel/Desktop/activities/100__Projects/LTSM_for_Antibiodies/LTSM_for_Antibodies/data/interim\n",
      "\n",
      "\n",
      "\n",
      "\n",
      ".....................................................................\n",
      "dataset_name:  Processed_AAseq_10p10r\n",
      "rand_nr: 1\n",
      "params: {'train_size': 0.7, 'prepare_aa_data_for_baseline': {'tr': 10, 'min_nr': 10}}\n",
      ".....................................................................\n",
      "\n",
      "- PART 1 - CREATE TRAIN AND VALIDAITON SUBSETS\n",
      "\n",
      "-----------------------------------------------\n",
      "train subset\n",
      "-----------------------------------------------\n",
      ". shape: (600996,)\n",
      ". unique el: (600996,)\n",
      ". non-unique el: 0\n",
      ". max nr of duplicates: None\n",
      ". mean seq len:, 150.0±0.0\n",
      ". examples\n"
     ]
    },
    {
     "data": {
      "text/plain": [
       "0    -EVQLVAS-GGVVVQPGGSLRLSCAACG-FPFVD-----FAIHWVR...\n",
       "1    -QLQLQES-GPGLVKPSATLSLTCTVSG-GSISSS---SYYCGWIR...\n",
       "Name: aa_seq, dtype: object"
      ]
     },
     "metadata": {},
     "output_type": "display_data"
    },
    {
     "name": "stdout",
     "output_type": "stream",
     "text": [
      "\n",
      "-----------------------------------------------\n",
      "validation subset\n",
      "-----------------------------------------------\n",
      ". shape: (257569,)\n",
      ". unique el: (257569,)\n",
      ". non-unique el: 0\n",
      ". max nr of duplicates: None\n",
      ". mean seq len:, 150.0±0.0\n",
      ". examples\n"
     ]
    },
    {
     "data": {
      "text/plain": [
       "0    -QVQLQQP-GAELVKPGASVKVSCKASG-YTFTS-----YWMHWVK...\n",
       "1    -QVTLRES-GPTLVKPSQTLTLTCTFSG-VSLTAS---GMGVGWIR...\n",
       "Name: aa_seq, dtype: object"
      ]
     },
     "metadata": {},
     "output_type": "display_data"
    },
    {
     "name": "stdout",
     "output_type": "stream",
     "text": [
      "\n",
      "-----------------------------------------------\n",
      "test subset\n",
      "-----------------------------------------------\n",
      ". shape: (151512,)\n",
      ". unique el: (151512,)\n",
      ". non-unique el: 0\n",
      ". max nr of duplicates: None\n",
      ". mean seq len:, 150.0±0.0\n",
      ". examples\n"
     ]
    },
    {
     "data": {
      "text/plain": [
       "0    -QIQLVQS-GPEVRKPGASVKVSCKASG-YTFSS-----YGISWVR...\n",
       "1    -QVQLQQP-GAELVKPGASVKVSCKASG-YTFTS-----YWMHWVK...\n",
       "Name: aa_seq, dtype: object"
      ]
     },
     "metadata": {},
     "output_type": "display_data"
    },
    {
     "name": "stdout",
     "output_type": "stream",
     "text": [
      "\n",
      "X.shape:  (303265, 150)\n",
      "y.shape:  (303265,)\n"
     ]
    },
    {
     "data": {
      "image/png": "[encoded data removed]",
      "text/plain": [
       "<Figure size 216x216 with 1 Axes>"
      ]
     },
     "metadata": {
      "needs_background": "light"
     },
     "output_type": "display_data"
    },
    {
     "name": "stdout",
     "output_type": "stream",
     "text": [
      "\n",
      "X.shape:  (600996, 150)\n",
      "y.shape:  (600996,)\n"
     ]
    },
    {
     "data": {
      "image/png": "[encoded data removed]",
      "text/plain": [
       "<Figure size 216x216 with 1 Axes>"
      ]
     },
     "metadata": {
      "needs_background": "light"
     },
     "output_type": "display_data"
    },
    {
     "name": "stdout",
     "output_type": "stream",
     "text": [
      "AA matrix shape:  (151512, 150)\n",
      "AA matrix shape:  (257569, 150)\n",
      "\n",
      "- PART 2 - create df, with each postiosn in different collumne and remove noise\n",
      "\n",
      "train data: X.shape = (600996, 150), y.shape = (600996,)\n",
      "valid data: X.shape = (257569, 150), y.shape = (257569,)\n",
      "test data: X.shape = (151512, 150), y.shape = (151512,)\n",
      "SAVING: Processed_AAseq_10p10r_expanded_v1_dct.p\n",
      "PWD:  /Users/pawel/Desktop/activities/100__Projects/LTSM_for_Antibiodies/LTSM_for_Antibodies/data/interim\n",
      "\n",
      "\n",
      "- PART 3 - ONE HOT ENCODING WITH sklearn transformer\n",
      "\n",
      "train data: X.shape = (600996, 325), y.shape = (600996,)\n",
      "valid data: X.shape = (257569, 325), y.shape = (257569,)\n",
      "test data: X.shape = (151512, 325), y.shape = (151512,)\n",
      "SAVING: Processed_AAseq_10p10r_onehotenc_v1_dct.p\n",
      "PWD:  /Users/pawel/Desktop/activities/100__Projects/LTSM_for_Antibiodies/LTSM_for_Antibodies/data/interim\n",
      "\n",
      "\n",
      "\n",
      "\n",
      ".....................................................................\n",
      "dataset_name:  Processed_AAseq_10p10r\n",
      "rand_nr: 2\n",
      "params: {'train_size': 0.7, 'prepare_aa_data_for_baseline': {'tr': 10, 'min_nr': 10}}\n",
      ".....................................................................\n",
      "\n",
      "- PART 1 - CREATE TRAIN AND VALIDAITON SUBSETS\n",
      "\n",
      "-----------------------------------------------\n",
      "train subset\n",
      "-----------------------------------------------\n",
      ". shape: (600996,)\n",
      ". unique el: (600996,)\n",
      ". non-unique el: 0\n",
      ". max nr of duplicates: None\n",
      ". mean seq len:, 150.0±0.0\n",
      ". examples\n"
     ]
    },
    {
     "data": {
      "text/plain": [
       "0    -EVQLQQS-GPELVKPGASVRISCKASG-YTFTS-----YWMQWVK...\n",
       "1    -QVQLLQS-GPELVKPGASVKISCKASG-YSFTD-----YYMNWVK...\n",
       "Name: aa_seq, dtype: object"
      ]
     },
     "metadata": {},
     "output_type": "display_data"
    },
    {
     "name": "stdout",
     "output_type": "stream",
     "text": [
      "\n",
      "-----------------------------------------------\n",
      "validation subset\n",
      "-----------------------------------------------\n",
      ". shape: (257569,)\n",
      ". unique el: (257569,)\n",
      ". non-unique el: 0\n",
      ". max nr of duplicates: None\n",
      ". mean seq len:, 150.0±0.0\n",
      ". examples\n"
     ]
    },
    {
     "data": {
      "text/plain": [
       "0    -EVQLVES-GGGLVKPGGSLKLSCAASG-FTFSS-----YTMSWVR...\n",
       "1    -EVQLVES-GGGMVQPGGSLRLSCAASG-FTFSD-----HYMDWVR...\n",
       "Name: aa_seq, dtype: object"
      ]
     },
     "metadata": {},
     "output_type": "display_data"
    },
    {
     "name": "stdout",
     "output_type": "stream",
     "text": [
      "\n",
      "-----------------------------------------------\n",
      "test subset\n",
      "-----------------------------------------------\n",
      ". shape: (151512,)\n",
      ". unique el: (151512,)\n",
      ". non-unique el: 0\n",
      ". max nr of duplicates: None\n",
      ". mean seq len:, 150.0±0.0\n",
      ". examples\n"
     ]
    },
    {
     "data": {
      "text/plain": [
       "0    -QIQLVQS-GPEVRKPGASVKVSCKASG-YTFSS-----YGISWVR...\n",
       "1    -QVQLQQP-GAELVKPGASVKVSCKASG-YTFTS-----YWMHWVK...\n",
       "Name: aa_seq, dtype: object"
      ]
     },
     "metadata": {},
     "output_type": "display_data"
    },
    {
     "name": "stdout",
     "output_type": "stream",
     "text": [
      "\n",
      "X.shape:  (303457, 150)\n",
      "y.shape:  (303457,)\n"
     ]
    },
    {
     "data": {
      "image/png": "[encoded data removed]",
      "text/plain": [
       "<Figure size 216x216 with 1 Axes>"
      ]
     },
     "metadata": {
      "needs_background": "light"
     },
     "output_type": "display_data"
    },
    {
     "name": "stdout",
     "output_type": "stream",
     "text": [
      "\n",
      "X.shape:  (600996, 150)\n",
      "y.shape:  (600996,)\n"
     ]
    },
    {
     "data": {
      "image/png": "[encoded data removed]",
      "text/plain": [
       "<Figure size 216x216 with 1 Axes>"
      ]
     },
     "metadata": {
      "needs_background": "light"
     },
     "output_type": "display_data"
    },
    {
     "name": "stdout",
     "output_type": "stream",
     "text": [
      "AA matrix shape:  (151512, 150)\n",
      "AA matrix shape:  (257569, 150)\n",
      "\n",
      "- PART 2 - create df, with each postiosn in different collumne and remove noise\n",
      "\n",
      "train data: X.shape = (600996, 150), y.shape = (600996,)\n",
      "valid data: X.shape = (257569, 150), y.shape = (257569,)\n",
      "test data: X.shape = (151512, 150), y.shape = (151512,)\n",
      "SAVING: Processed_AAseq_10p10r_expanded_v2_dct.p\n",
      "PWD:  /Users/pawel/Desktop/activities/100__Projects/LTSM_for_Antibiodies/LTSM_for_Antibodies/data/interim\n",
      "\n",
      "\n",
      "- PART 3 - ONE HOT ENCODING WITH sklearn transformer\n",
      "\n",
      "train data: X.shape = (600996, 325), y.shape = (600996,)\n",
      "valid data: X.shape = (257569, 325), y.shape = (257569,)\n",
      "test data: X.shape = (151512, 325), y.shape = (151512,)\n",
      "SAVING: Processed_AAseq_10p10r_onehotenc_v2_dct.p\n",
      "PWD:  /Users/pawel/Desktop/activities/100__Projects/LTSM_for_Antibiodies/LTSM_for_Antibodies/data/interim\n",
      "\n",
      "\n",
      "\n",
      "\n",
      ".....................................................................\n",
      "dataset_name:  Processed_AAseq_10p10r\n",
      "rand_nr: 3\n",
      "params: {'train_size': 0.7, 'prepare_aa_data_for_baseline': {'tr': 10, 'min_nr': 10}}\n",
      ".....................................................................\n",
      "\n",
      "- PART 1 - CREATE TRAIN AND VALIDAITON SUBSETS\n",
      "\n",
      "-----------------------------------------------\n",
      "train subset\n",
      "-----------------------------------------------\n",
      ". shape: (600996,)\n",
      ". unique el: (600996,)\n",
      ". non-unique el: 0\n",
      ". max nr of duplicates: None\n",
      ". mean seq len:, 150.0±0.0\n",
      ". examples\n"
     ]
    },
    {
     "data": {
      "text/plain": [
       "0    -EVQLQQS-VAELVRPGASVKLSCTASG-FNIKN-----TYMHWVK...\n",
       "1    -EVQLQQS-GAELVRPGASVKLSCTASG-FNIKD-----DYMHWVK...\n",
       "Name: aa_seq, dtype: object"
      ]
     },
     "metadata": {},
     "output_type": "display_data"
    },
    {
     "name": "stdout",
     "output_type": "stream",
     "text": [
      "\n",
      "-----------------------------------------------\n",
      "validation subset\n",
      "-----------------------------------------------\n",
      ". shape: (257569,)\n",
      ". unique el: (257569,)\n",
      ". non-unique el: 0\n",
      ". max nr of duplicates: None\n",
      ". mean seq len:, 150.0±0.0\n",
      ". examples\n"
     ]
    },
    {
     "data": {
      "text/plain": [
       "0    -QVQLVES-GGGVVQPGRSLRLACAASG-FTFSS-----YAMHWVR...\n",
       "1    -QVQLQQS-GAELVKPGASVKLSCTASG-FNIKD-----YYMHWVK...\n",
       "Name: aa_seq, dtype: object"
      ]
     },
     "metadata": {},
     "output_type": "display_data"
    },
    {
     "name": "stdout",
     "output_type": "stream",
     "text": [
      "\n",
      "-----------------------------------------------\n",
      "test subset\n",
      "-----------------------------------------------\n",
      ". shape: (151512,)\n",
      ". unique el: (151512,)\n",
      ". non-unique el: 0\n",
      ". max nr of duplicates: None\n",
      ". mean seq len:, 150.0±0.0\n",
      ". examples\n"
     ]
    },
    {
     "data": {
      "text/plain": [
       "0    -QIQLVQS-GPEVRKPGASVKVSCKASG-YTFSS-----YGISWVR...\n",
       "1    -QVQLQQP-GAELVKPGASVKVSCKASG-YTFTS-----YWMHWVK...\n",
       "Name: aa_seq, dtype: object"
      ]
     },
     "metadata": {},
     "output_type": "display_data"
    },
    {
     "name": "stdout",
     "output_type": "stream",
     "text": [
      "\n",
      "X.shape:  (303941, 150)\n",
      "y.shape:  (303941,)\n"
     ]
    },
    {
     "data": {
      "image/png": "[encoded data removed]",
      "text/plain": [
       "<Figure size 216x216 with 1 Axes>"
      ]
     },
     "metadata": {
      "needs_background": "light"
     },
     "output_type": "display_data"
    },
    {
     "name": "stdout",
     "output_type": "stream",
     "text": [
      "\n",
      "X.shape:  (600996, 150)\n",
      "y.shape:  (600996,)\n"
     ]
    },
    {
     "data": {
      "image/png": "[encoded data removed]",
      "text/plain": [
       "<Figure size 216x216 with 1 Axes>"
      ]
     },
     "metadata": {
      "needs_background": "light"
     },
     "output_type": "display_data"
    },
    {
     "name": "stdout",
     "output_type": "stream",
     "text": [
      "AA matrix shape:  (151512, 150)\n",
      "AA matrix shape:  (257569, 150)\n",
      "\n",
      "- PART 2 - create df, with each postiosn in different collumne and remove noise\n",
      "\n",
      "train data: X.shape = (600996, 150), y.shape = (600996,)\n",
      "valid data: X.shape = (257569, 150), y.shape = (257569,)\n",
      "test data: X.shape = (151512, 150), y.shape = (151512,)\n",
      "SAVING: Processed_AAseq_10p10r_expanded_v3_dct.p\n",
      "PWD:  /Users/pawel/Desktop/activities/100__Projects/LTSM_for_Antibiodies/LTSM_for_Antibodies/data/interim\n",
      "\n",
      "\n",
      "- PART 3 - ONE HOT ENCODING WITH sklearn transformer\n",
      "\n",
      "train data: X.shape = (600996, 325), y.shape = (600996,)\n",
      "valid data: X.shape = (257569, 325), y.shape = (257569,)\n",
      "test data: X.shape = (151512, 325), y.shape = (151512,)\n",
      "SAVING: Processed_AAseq_10p10r_onehotenc_v3_dct.p\n",
      "PWD:  /Users/pawel/Desktop/activities/100__Projects/LTSM_for_Antibiodies/LTSM_for_Antibodies/data/interim\n",
      "\n",
      "\n"
     ]
    }
   ],
   "source": [
    "parameters = {\n",
    "    # use aa that are present in >1% of sequenses ot min, 2 sequences\n",
    "    'Processed_AAseq_1p2r':{\n",
    "        \"train_size\":0.7,\n",
    "        \"prepare_aa_data_for_baseline\":{'tr':1, 'min_nr':1}\n",
    "    },\n",
    "    # use aa that are present in >5% of sequenses ot min, 2 sequences\n",
    "    'Processed_AAseq_5p2r':{\n",
    "        \"train_size\":0.7,\n",
    "        \"prepare_aa_data_for_baseline\":{'tr':5, 'min_nr':1}\n",
    "    },\n",
    "    # use aa that are present in >10% of sequenses ot min, 10 sequences\n",
    "    'Processed_AAseq_10p2r':{\n",
    "        \"train_size\":0.7,\n",
    "        \"prepare_aa_data_for_baseline\":{'tr':10, 'min_nr':10}\n",
    "    }\n",
    "}\n",
    "\n",
    "\n",
    "parameters = {\n",
    "    # use aa that are present in >10% of sequenses ot min, 10 sequences\n",
    "    'Processed_AAseq_10p10r':{\n",
    "        \"train_size\":0.7,\n",
    "        \"prepare_aa_data_for_baseline\":{'tr':10, 'min_nr':10}\n",
    "    }\n",
    "}\n",
    "\n",
    "\n",
    "\n",
    "data_preprocessing_pipeline(\n",
    "    data = data,\n",
    "    data_test = data_test,\n",
    "    random_nr_list = [0, 1, 2, 3],\n",
    "    path=PATH_data_interim,\n",
    "    parameters = parameters, \n",
    "    verbose=True\n",
    ")"
   ]
  }
 ],
 "metadata": {
  "kernelspec": {
   "display_name": "Python 3",
   "language": "python",
   "name": "python3"
  },
  "language_info": {
   "codemirror_mode": {
    "name": "ipython",
    "version": 3
   },
   "file_extension": ".py",
   "mimetype": "text/x-python",
   "name": "python",
   "nbconvert_exporter": "python",
   "pygments_lexer": "ipython3",
   "version": "3.7.10"
  }
 },
 "nbformat": 4,
 "nbformat_minor": 5
}
