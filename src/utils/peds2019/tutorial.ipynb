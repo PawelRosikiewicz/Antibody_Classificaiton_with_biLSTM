{
 "cells": [
  {
   "cell_type": "markdown",
   "metadata": {},
   "source": [
    "## ABLSTM Tutorial"
   ]
  },
  {
   "cell_type": "markdown",
   "metadata": {},
   "source": [
    "This tutorial is composed for testing purpose only. For more detailed instructions, please refer to README.md."
   ]
  },
  {
   "cell_type": "markdown",
   "metadata": {},
   "source": [
    "### Initialization"
   ]
  },
  {
   "cell_type": "markdown",
   "metadata": {},
   "source": [
    "#### `ablstm.ModelLSTM.__init__()`\n",
    "> Initializes an LSTM model with the given paramters.\n",
    "\n",
    "Parameters:\n",
    "\n",
    "1. `embedding_dim`: *int, default is 64*\n",
    "> Embedding layer dimensions.\n",
    "2. `hidden_dim`: *int, default is 64*\n",
    "> Hiddden layer dimensions.\n",
    "3. `device`: *str, default is 'cpu'*\n",
    "> Device that the model will be mounted on. If GPU is available and CUDA is properly installed, you can assign `\"cuda:0\"` (or `\"cuda:<DEVICE_INDEX>\"` if you have more GPUs) that will greatly accelerate training and evaluation process.   \n",
    "4. `gapped`: *bool, default is True*\n",
    "> Indicate whether the input sequences contains gaps. A gap is always signified by `\"-\"`.\n",
    "5. `fixed_len`: *bool, default is True*\n",
    "> Indicate whether the input sequences share equal length. It can be set `False` without any issue in all circumstances, but when the sequence lengths are assured to be the same, setting it `True` will help speed up the computation significantly."
   ]
  },
  {
   "cell_type": "code",
   "execution_count": 14,
   "metadata": {},
   "outputs": [],
   "source": [
    "import torch"
   ]
  },
  {
   "cell_type": "code",
   "execution_count": 15,
   "metadata": {},
   "outputs": [
    {
     "name": "stdout",
     "output_type": "stream",
     "text": [
      "Model initialized.\n"
     ]
    }
   ],
   "source": [
    "from ablstm import ModelLSTM\n",
    "\n",
    "# initialize model\n",
    "# change device to 'cpu' if CUDA is not working properly\n",
    "model = ModelLSTM(embedding_dim=64, hidden_dim=64, device='cpu', gapped=True, fixed_len=True)\n",
    "print('Model initialized.')"
   ]
  },
  {
   "cell_type": "markdown",
   "metadata": {},
   "source": [
    "### Training"
   ]
  },
  {
   "cell_type": "markdown",
   "metadata": {},
   "source": [
    "#### `ablstm.ModelLSTM.fit()`\n",
    "> Fit the model via the given training and validation data.\n",
    "\n",
    "Parameters:\n",
    "\n",
    "1. `trn_fn`: *str*\n",
    "> Data file for training.\n",
    "2. `vld_fn`: *str*\n",
    "> Data file for validation.\n",
    "3. `n_epoch`: *int, default is 10*\n",
    "> Number of epochs.\n",
    "4. `trn_batch_size`: *str, default is 128*\n",
    "> Batch size during training. `-1` means whole batch.\n",
    "5. `vld_batch_size`: *str, default is 512*\n",
    "> Batch size during validation. `-1` means whole batch.\n",
    "6. `lr`: *float, default is 0.002*\n",
    "> Learning rate. The fitting process uses Adam algorithm for optimization.\n",
    "7. `save_fp`: *str, optional, default is None*\n",
    "> Path to save models. `None` or `\"\"` means training without saving. If a valid path is given, model will be saved under the path after each epoch as long as the validation performance is better than the past."
   ]
  },
  {
   "cell_type": "code",
   "execution_count": 16,
   "metadata": {},
   "outputs": [
    {
     "name": "stderr",
     "output_type": "stream",
     "text": [
      "Epoch 000 (TRN): 100%|| 357071/357071 [16:34<00:00, 359.09seq/s, loss=0.771055, acc=0.799058]\n",
      "          (VLD): 100%|| 76515/76515 [01:26<00:00, 882.62seq/s, loss=0.663383, acc=0.828703]\n"
     ]
    },
    {
     "name": "stdout",
     "output_type": "stream",
     "text": [
      "Done.\n"
     ]
    }
   ],
   "source": [
    "# data files\n",
    "trn_fn = './data/sample/human_train.txt'\n",
    "vld_fn = './data/sample/human_val.txt'\n",
    "\n",
    "# fit model w/o save\n",
    "model.fit(trn_fn=trn_fn, vld_fn=vld_fn, n_epoch=1, trn_batch_size=128, vld_batch_size=512, lr=.002, save_fp=None)\n",
    "# # fit model w/ save\n",
    "# model.fit(trn_fn=trn_fn, vld_fn=vld_fn, n_epoch=1, trn_batch_size=128, vld_batch_size=512, lr=.002, save_fp='./saved_models/tmp')\n",
    "print('Done.')"
   ]
  },
  {
   "cell_type": "markdown",
   "metadata": {},
   "source": [
    "### Evaluation"
   ]
  },
  {
   "cell_type": "markdown",
   "metadata": {},
   "source": [
    "#### `ablstm.ModelLSTM.eval()`\n",
    "> scores the given sequences.\n",
    "\n",
    "Parameters:\n",
    "\n",
    "1. `fn`: *str*\n",
    "> Data file for evaluation.\n",
    "2. `batch_size`: *int, default is 512*\n",
    "> Batch size. -1 means whole batch.\n",
    "\n",
    "Returns:\n",
    "\n",
    "1. `scores`: *NumPy ndarray*\n",
    "> 1-D NumPy array consists of all sequences' scores. Order is preserved."
   ]
  },
  {
   "cell_type": "code",
   "execution_count": 17,
   "metadata": {},
   "outputs": [
    {
     "name": "stdout",
     "output_type": "stream",
     "text": [
      "Evaluating human sequences...\n"
     ]
    },
    {
     "name": "stderr",
     "output_type": "stream",
     "text": [
      "100%|| 76515/76515 [01:03<00:00, 1207.87seq/s]\n"
     ]
    },
    {
     "name": "stdout",
     "output_type": "stream",
     "text": [
      "Evaluating mouse sequences...\n"
     ]
    },
    {
     "name": "stderr",
     "output_type": "stream",
     "text": [
      "100%|| 500000/500000 [07:05<00:00, 1175.91seq/s]"
     ]
    },
    {
     "name": "stdout",
     "output_type": "stream",
     "text": [
      "Done.\n"
     ]
    },
    {
     "name": "stderr",
     "output_type": "stream",
     "text": [
      "\n"
     ]
    }
   ],
   "source": [
    "# data file names\n",
    "human_tst_fn = './data/sample/human_test.txt'\n",
    "mouse_tst_fn = './data/sample/mouse_test.txt'\n",
    "\n",
    "# evaluate\n",
    "print('Evaluating human sequences...')\n",
    "human_tst_scores = model.eval(fn=human_tst_fn, batch_size=512)\n",
    "print('Evaluating mouse sequences...')\n",
    "mouse_tst_scores = model.eval(fn=mouse_tst_fn, batch_size=512)\n",
    "print('Done.')"
   ]
  },
  {
   "cell_type": "markdown",
   "metadata": {},
   "source": [
    "Let's visualize the result."
   ]
  },
  {
   "cell_type": "code",
   "execution_count": 18,
   "metadata": {},
   "outputs": [
    {
     "data": {
      "image/png": "[encoded data removed]",
      "text/plain": [
       "<Figure size 432x288 with 1 Axes>"
      ]
     },
     "metadata": {
      "needs_background": "light"
     },
     "output_type": "display_data"
    }
   ],
   "source": [
    "import matplotlib.pyplot as plt\n",
    "plt.hist(human_tst_scores, bins=100, alpha=0.8, density=True, label='Human')\n",
    "plt.hist(mouse_tst_scores, bins=100, alpha=0.8, density=True, label='Mouse')\n",
    "plt.legend()\n",
    "plt.show()"
   ]
  },
  {
   "cell_type": "markdown",
   "metadata": {},
   "source": [
    "### Save, load & change device"
   ]
  },
  {
   "cell_type": "markdown",
   "metadata": {},
   "source": [
    "#### `ablstm.ModelLSTM.save()`\n",
    "> Save model.\n",
    "\n",
    "Parameters:\n",
    "\n",
    "1. `fn`: *str*\n",
    "> Save file name."
   ]
  },
  {
   "cell_type": "markdown",
   "metadata": {},
   "source": [
    "#### `ablstm.ModelLSTM.load()`\n",
    "> Load model from the given file. Please note that when `load()` method is invoked, all parameters will be overloaded except `device`. You may call `ablstm.ModelLSTM.to()` method to switch among different devices.\n",
    "\n",
    "Parameters:\n",
    "\n",
    "1. `fn`: *str*\n",
    "> Model file name.\n",
    "\n",
    "Returns:\n",
    "\n",
    "1. `model`: *ablstm.ModelLSTM*\n",
    "> Loaded model."
   ]
  },
  {
   "cell_type": "markdown",
   "metadata": {},
   "source": [
    "#### `ablstm.ModelLSTM.to()`\n",
    "> Assign device.\n",
    "\n",
    "Parameters:\n",
    "1. `device`: *str, default is \"cpu\"*\n",
    "> Device to mount."
   ]
  },
  {
   "cell_type": "code",
   "execution_count": 8,
   "metadata": {},
   "outputs": [
    {
     "name": "stdout",
     "output_type": "stream",
     "text": [
      "Model saved to ./saved_models/tmp/model_tmp.npy.\n",
      "Model loaded from ./saved_models/tmp/model_tmp.npy.\n"
     ]
    }
   ],
   "source": [
    "# save model\n",
    "model.save('./saved_models/tmp/model_tmp.npy')\n",
    "print('Model saved to ./saved_models/tmp/model_tmp.npy.')\n",
    "\n",
    "# load model\n",
    "model_loaded = ModelLSTM()\n",
    "model_loaded.load('./saved_models/tmp/model_tmp.npy')\n",
    "print('Model loaded from ./saved_models/tmp/model_tmp.npy.')\n",
    "\n",
    "# # data file names\n",
    "# human_tst_fn = './data/sample/human_test_vlen.txt'\n",
    "# mouse_tst_fn = './data/sample/mouse_test_vlen.txt'\n",
    "\n",
    "# # evaluate\n",
    "# print('Evaluating human sequences...')\n",
    "# human_tst_scores = model_loaded.eval(fn=human_tst_fn, batch_size=512)\n",
    "# print('Evaluating mouse sequences...')\n",
    "# mouse_tst_scores = model_loaded.eval(fn=mouse_tst_fn, batch_size=512)\n",
    "# print('Done.')"
   ]
  }
 ],
 "metadata": {
  "kernelspec": {
   "display_name": "Python 3",
   "language": "python",
   "name": "python3"
  },
  "language_info": {
   "codemirror_mode": {
    "name": "ipython",
    "version": 3
   },
   "file_extension": ".py",
   "mimetype": "text/x-python",
   "name": "python",
   "nbconvert_exporter": "python",
   "pygments_lexer": "ipython3",
   "version": "3.7.10"
  }
 },
 "nbformat": 4,
 "nbformat_minor": 4
}
